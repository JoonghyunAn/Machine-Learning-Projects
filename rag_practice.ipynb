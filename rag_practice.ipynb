{
 "cells": [
  {
   "cell_type": "markdown",
   "id": "67d65eda-163a-471f-aeb0-7944dfe5d5bb",
   "metadata": {},
   "source": [
    "### RAG(Retrieval Augmented Generation) practice \n",
    "- Retrieval -Find relevant information given a query\n",
    "- Augmentation -Take the relevant information from retrieval and augment our input(prompt) to an LLM with that relevant information.\n",
    "- Generation - Take the first two steps and pass them to an LLM for generative outputs.\n",
    "\n",
    "### Why RAG?\n",
    "- The main goal of RAG is to improve the generation outputs of LLMs. \n",
    "- Most of what I practiced were based on fine-tuning. It can provide up-to-date information to the model with less efforts.\n",
    "### Steps\n",
    "- Import PDF\n",
    "- Process text for embedding\n",
    "- Embed text chunks with embedding model.\n",
    "- Save embeddings to file for later\n",
    "### Practiced with \n",
    "- Daniel Bourke- Local Retrieval Generation(RAG) from Scratch(step by step tutorial)\n",
    "- https://www.youtube.com/watch?v=qN_2fnOPY-M&t=513s"
   ]
  },
  {
   "cell_type": "markdown",
   "id": "c567ec17-c55e-4c27-867a-0d9292d59023",
   "metadata": {},
   "source": [
    "### Import PDF Document"
   ]
  },
  {
   "cell_type": "code",
   "execution_count": null,
   "id": "e553f46e-ca29-4507-afab-39f30091c9f0",
   "metadata": {},
   "outputs": [],
   "source": [
    "import os \n",
    "import requests\n",
    "\n",
    "# Get PDF docu path\n",
    "pdf_path = \"ECE Graduate Policy Manual AY2023-2024\"\n",
    "\n",
    "# download \n",
    "if not os.path.exist(pdf_path):\n",
    "    print(f\"[INFO] File doesn't exist, downloading...\")\n",
    "\n",
    "    # Enter the URL of the PDF \n",
    "    # VT ECE graduate policy link \n",
    "    url = \"example_url\" \n",
    "\n",
    "    filename = pdf_path "
   ]
  }
 ],
 "metadata": {
  "kernelspec": {
   "display_name": "Python 3 (ipykernel)",
   "language": "python",
   "name": "python3"
  },
  "language_info": {
   "codemirror_mode": {
    "name": "ipython",
    "version": 3
   },
   "file_extension": ".py",
   "mimetype": "text/x-python",
   "name": "python",
   "nbconvert_exporter": "python",
   "pygments_lexer": "ipython3",
   "version": "3.13.1"
  }
 },
 "nbformat": 4,
 "nbformat_minor": 5
}
