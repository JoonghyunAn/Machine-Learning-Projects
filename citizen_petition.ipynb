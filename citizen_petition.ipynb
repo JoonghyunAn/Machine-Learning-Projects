{
 "cells": [
  {
   "cell_type": "code",
   "execution_count": null,
   "metadata": {},
   "outputs": [],
   "source": [
    "# This project is to predict which topic of petitions may gain interests from citizens."
   ]
  },
  {
   "cell_type": "code",
   "execution_count": null,
   "metadata": {},
   "outputs": [],
   "source": [
    "# data preprocessing -> tokenizing & creating variables -> word embedding -> testing  -> TextCNN"
   ]
  },
  {
   "cell_type": "code",
   "execution_count": 2,
   "metadata": {},
   "outputs": [],
   "source": [
    "import pandas as pd \n",
    "import numpy as np \n",
    "\n",
    "result = pd.read_csv(\"./datasets/crawling.csv\")"
   ]
  },
  {
   "cell_type": "code",
   "execution_count": 3,
   "metadata": {},
   "outputs": [
    {
     "name": "stdout",
     "output_type": "stream",
     "text": [
      "(10881, 6)\n",
      "<class 'pandas.core.frame.DataFrame'>\n",
      "RangeIndex: 10881 entries, 0 to 10880\n",
      "Data columns (total 6 columns):\n",
      " #   Column    Non-Null Count  Dtype \n",
      "---  ------    --------------  ----- \n",
      " 0   category  10881 non-null  object\n",
      " 1   content   10881 non-null  object\n",
      " 2   count     10881 non-null  object\n",
      " 3   end       10881 non-null  object\n",
      " 4   start     10881 non-null  object\n",
      " 5   title     10881 non-null  object\n",
      "dtypes: object(6)\n",
      "memory usage: 510.2+ KB\n"
     ]
    }
   ],
   "source": [
    "print(result.shape)\n",
    "\n",
    "\n",
    "df = result\n",
    "df.head(3)\n",
    "df.info()"
   ]
  },
  {
   "cell_type": "code",
   "execution_count": 4,
   "metadata": {},
   "outputs": [
    {
     "name": "stdout",
     "output_type": "stream",
     "text": [
      "본인은 2019년 8월 경 서울지방병무청 제1검사장 탈의실에서 믿을 수 없는 것을 발견하였다. 탈의실 천장에 CCTV를 발견한 것이다. 본인은 이에 경악하였다.\n",
      "\n",
      "탈의실에 CCTV를 설치하는 것은 개인정보보호법 25조 2항을 위반한 사안으로 심각한 법적 문제이다. 촬영이 되었다면 이는 성폭력범죄의 처벌 등에 관한 특례법 14조 1항 위반이기도 하다. 또한, 법적인 문제일 뿐만 아니라 개인의 자유를 침해하고 성적 수치심을 불러일으키는 매우 심각한 윤리적 문제이다.\n",
      "이렇듯 불법카메라는 그 자체로 굉장히 심각한 문제이다. 그런데 공공기관에서 탈의실에 불법, 비윤리적으로 카메라를 설치하였고, 이를 운영하였을지도 모르는 상황이 발생하였다. 도대체 한국 정부는 인권을 무엇이라고 생각하는 것인가? \n",
      "\n",
      "발견 직후 인권위에 진정을 넣었지만 인권위에서는 현재까지 조사가 되고 있는지, 진행은 어떻게 되었는지 어떠한 답변도 하지 않고 있다. 병무청측에서도 어떠한 답변도 없었다.\n",
      "\n",
      "더 이상 답변을 기다리는 것이 의미 없다고 생각한 본인은 모 커뮤니티에 이 사실을 알렸다. 이후 이슈화가 되자 병무청은 설치는 되었으나 운영은 하지 않았다는 대답을 내놓았지만 이에 대한 조사 경과 발표나 사과, 책임 있는 대응은 전혀 보여주고 있지 않다.\n",
      "\n",
      "이는 개인의 자유와 권리의 본질적 내용을 침해하는 강제징집, 국제노동기구가 인정한 강제징용/강제노동을 당하는 20대 남성들이 국가에 의해 신체를 감시당한 사건이다. 한국 정부는 병역의무자에게는 인권이 없다고 생각하는가?\n",
      "\n",
      "언제까지 국가는 개인들을 노예 취급할 것인가? 몇백원도 안되는 시급을 주며 강제로 폭력 속에서 부리는 것도 모자라 이제는 이런 어처구니 없는 일까지 일어나는 것에 경악하지 않을 수 없다. \n",
      "\n",
      "이에 본인은 위 사실을 강력히 규탄하며 아래와 같은 대응을 요구한다.\n",
      "\n",
      "1. 서울지방병무청 징병검사소 탈의실에 CCTV가 설치된 경위와 운영 여부, 관리 내역 등에 대해 낱낱이 조사하여 그 진상을 밝혀라.\n",
      "2. 병무청장과 서울지방병무청장은 이 사건에 책임을 지고 사퇴하라. 자진사퇴를 거부한다면 정부는 이들을 파면하라.\n",
      "3. 이 사건과 관련된 책임자와 담당자를 처벌하라.\n",
      "4. 병무정장 명의의 사과문을 병무청 사이트를 비롯한 온라인과 전국의 신체검사소에 올려 신체검사대상들이 그 사과 내용을 알게하고, 사과내용과 조사 경과를 언론에 배포하라.\n",
      "5. 어떠한 이유에서 인권위가 위 민원을 무시하고 태만하였는지 조사하고 책임자를 문책하라.\n",
      "6. 병무청이 CCTV 제보자와 민원인들을 보복하지 않도록 감시하고 제보자와 민원인을 적극적으로 보호하라.\n",
      "7. 한국 정부는 20대 남성의 강제징집과 강제노동에 대해 최저임금 3배 이상의 시급을 지급하고 빠른 시일내로 현재의 징병제를 개혁하여 강제징집과 강제징용, 강제노동을 폐지하라. 또한 지금까지 강제적으로 끌려가 피해를 당한 당사자들에게 사과하고 합당한 피해보상금을 제공하라.\n",
      "\n",
      "\n",
      "각주 1. 개인정보보호법 제25조 2항\n",
      "제25조(영상정보처리기기의 설치ㆍ운영 제한) \n",
      "② 누구든지 불특정 다수가 이용하는 목욕실, 화장실, 발한실(發汗室), 탈의실 등 개인의 사생활을 현저히 침해할 우려가 있는 장소의 내부를 볼 수 있도록 영상정보처리기기를 설치ㆍ운영하여서는 아니 된다. 다만, 교도소, 정신보건 시설 등 법령에 근거하여 사람을 구금하거나 보호하는 시설로서 대통령령으로 정하는 시설에 대하여는 그러하지 아니하다.\n",
      "\n",
      "각주2. 개인정보보호법 제75조(과태료) 1항 3호\n",
      "다음 각 호의 어느 하나에 해당하는 자에게는 5천만원 이하의 과태료를 부과한다. \n",
      "3. 제25조제2항을 위반하여 영상정보처리기기를 설치ㆍ운영한 자\n",
      "\n",
      "각주3. 성폭력범죄의 처벌 등에 관한 특례법 제14조(카메라 등을 이용한 촬영) 1항 \n",
      "카메라나 그 밖에 이와 유사한 기능을 갖춘 기계장치를 이용하여 성적 욕망 또는 수치심을 유발할 수 있는 사람의 신체를 촬영대상자의 의사에 반하여 촬영한 자는 5년 이하의 징역 또는 3천만원 이하의 벌금에 처한다.  <개정 2018. 12. 18.>\n",
      "\n",
      "각주4. 국제노동기구 제29호 강제근로 협약, 제105호 강제근로 폐지 협약\n",
      "제105호 \n",
      "(가) 정치적 견해 또는 기존 정치 사회 경제제도에 사상적으로 반대하는 견해를 가지거나 발표하는 것에 대한 제재 및 정치적 억압 또는 교육의 수단\n",
      "(나) 경제발전을 목적으로 노동력을 동원 이용하는 경우\n",
      "(다) 노동 규제의 수단\n",
      "(라) 파업참가에 대한 제재\n",
      "(마) 인종적 사회적 민족적 또는 종교적 차별대우의 수단\n",
      "---\n",
      "주식시장 활성화 및 소액(개미)투자자 보호\n"
     ]
    }
   ],
   "source": [
    "print(df.loc[0]['content'])\n",
    "print('---')\n",
    "print(df.loc[1]['title'])"
   ]
  },
  {
   "cell_type": "code",
   "execution_count": 5,
   "metadata": {},
   "outputs": [],
   "source": [
    "# data preprocessing\n",
    "\n",
    "import re\n",
    "\n",
    "def remove_white_space(text):\n",
    "    text = re.sub(r'[\\t\\r\\n\\f\\v]',' ', str(text))\n",
    "    return text\n",
    "\n",
    "#for word embedding vector\n",
    "def remove_special_char(text):\n",
    "    text = re.sub('[^ ㄱ-ㅣ가-힣 0-9]+', ' ', str(text))\n",
    "    return text\n",
    "\n",
    "df.title = df.title.apply(remove_white_space)\n",
    "df.title = df.title.apply(remove_special_char)\n",
    "\n",
    "df.content = df.content.apply(remove_white_space)\n",
    "df.content = df.content.apply(remove_special_char)\n"
   ]
  },
  {
   "cell_type": "code",
   "execution_count": 6,
   "metadata": {},
   "outputs": [],
   "source": [
    "# tokenizing \n",
    "# titles will be separated and saved by morphemes, contents will be handled by nouns.\n",
    "\n",
    "from konlpy.tag import Okt\n",
    "\n",
    "okt = Okt()\n",
    "\n",
    "df['title_token'] = df.title.apply(okt.morphs)\n",
    "df['content_token'] = df.content.apply(okt.nouns)\n",
    "\n"
   ]
  },
  {
   "cell_type": "code",
   "execution_count": 7,
   "metadata": {},
   "outputs": [
    {
     "name": "stdout",
     "output_type": "stream",
     "text": [
      "category         object\n",
      "content          object\n",
      "count             int64\n",
      "end              object\n",
      "start            object\n",
      "title            object\n",
      "title_token      object\n",
      "content_token    object\n",
      "token_final      object\n",
      "dtype: object\n"
     ]
    }
   ],
   "source": [
    "df['token_final'] = df.title_token + df.content_token\n",
    "\n",
    "# for number >=1000 , ',' must be deleted.\n",
    "df['count'] = df['count'].replace({',':''}, regex=True).apply(lambda x : int(x))\n",
    "\n",
    "print(df.dtypes) \n",
    "\n",
    "# 'Yes' if participants >= 1000\n",
    "df['label'] = df['count'].apply(lambda x : 'Yes' if x>=1000 else 'No')"
   ]
  },
  {
   "cell_type": "code",
   "execution_count": 8,
   "metadata": {},
   "outputs": [
    {
     "data": {
      "text/html": [
       "<div>\n",
       "<style scoped>\n",
       "    .dataframe tbody tr th:only-of-type {\n",
       "        vertical-align: middle;\n",
       "    }\n",
       "\n",
       "    .dataframe tbody tr th {\n",
       "        vertical-align: top;\n",
       "    }\n",
       "\n",
       "    .dataframe thead th {\n",
       "        text-align: right;\n",
       "    }\n",
       "</style>\n",
       "<table border=\"1\" class=\"dataframe\">\n",
       "  <thead>\n",
       "    <tr style=\"text-align: right;\">\n",
       "      <th></th>\n",
       "      <th>category</th>\n",
       "      <th>content</th>\n",
       "      <th>count</th>\n",
       "      <th>end</th>\n",
       "      <th>start</th>\n",
       "      <th>title</th>\n",
       "      <th>title_token</th>\n",
       "      <th>content_token</th>\n",
       "      <th>token_final</th>\n",
       "      <th>label</th>\n",
       "    </tr>\n",
       "  </thead>\n",
       "  <tbody>\n",
       "    <tr>\n",
       "      <th>0</th>\n",
       "      <td>인권/성평등</td>\n",
       "      <td>본인은 2019년 8월 경 서울지방병무청 제1검사장 탈의실에서 믿을 수 없는 것을 ...</td>\n",
       "      <td>267</td>\n",
       "      <td>2020-02-01</td>\n",
       "      <td>2020-01-02</td>\n",
       "      <td>서울지방병무청 탈의실에 설치된  에 대한 진상규명을 요구한다  또한 인권위의 미온적...</td>\n",
       "      <td>[서울, 지방, 병무청, 탈의실, 에, 설치, 된, 에, 대한, 진상, 규명, 을,...</td>\n",
       "      <td>[본인, 경, 서울, 지방, 병무청, 제, 검사, 탈의실, 수, 것, 발견, 탈의실...</td>\n",
       "      <td>[서울, 지방, 병무청, 탈의실, 에, 설치, 된, 에, 대한, 진상, 규명, 을,...</td>\n",
       "      <td>No</td>\n",
       "    </tr>\n",
       "    <tr>\n",
       "      <th>1</th>\n",
       "      <td>경제민주화</td>\n",
       "      <td>우리 나라 코스피 시총이 미국 애플보다 작다는 설이 돌 정도로 한국의 주식시장은 저...</td>\n",
       "      <td>271</td>\n",
       "      <td>2020-02-01</td>\n",
       "      <td>2020-01-02</td>\n",
       "      <td>주식시장 활성화 및 소액 개미 투자자 보호</td>\n",
       "      <td>[주식시장, 활성화, 및, 소액, 개미, 투자자, 보호]</td>\n",
       "      <td>[우리, 나라, 코스피, 총, 미국, 애플, 설, 돌, 정도, 한국, 주식시장, 평...</td>\n",
       "      <td>[주식시장, 활성화, 및, 소액, 개미, 투자자, 보호, 우리, 나라, 코스피, 총...</td>\n",
       "      <td>No</td>\n",
       "    </tr>\n",
       "    <tr>\n",
       "      <th>2</th>\n",
       "      <td>행정</td>\n",
       "      <td>억울한 일로 국민청원을 신청합니다       저는  구치소  교도관입니다      ...</td>\n",
       "      <td>198</td>\n",
       "      <td>2020-02-01</td>\n",
       "      <td>2020-01-02</td>\n",
       "      <td>교정기관의 민낮</td>\n",
       "      <td>[교정, 기관, 의, 민낮]</td>\n",
       "      <td>[일로, 국민, 청원, 신청, 저, 구치소, 교도관, 이주, 전, 구치소, 독, 거...</td>\n",
       "      <td>[교정, 기관, 의, 민낮, 일로, 국민, 청원, 신청, 저, 구치소, 교도관, 이...</td>\n",
       "      <td>No</td>\n",
       "    </tr>\n",
       "    <tr>\n",
       "      <th>3</th>\n",
       "      <td>안전/환경</td>\n",
       "      <td>미세먼지의 심각성은 이제 적극적인 대안을 요구 하고 있습니다    우리 일상에서 가...</td>\n",
       "      <td>170</td>\n",
       "      <td>2020-02-01</td>\n",
       "      <td>2020-01-02</td>\n",
       "      <td>미세먼지 저감 대책</td>\n",
       "      <td>[미세먼지, 저, 감, 대책]</td>\n",
       "      <td>[미세먼지, 심각, 성은, 이제, 적극, 대안, 요구, 우리, 일상, 가장, 적극,...</td>\n",
       "      <td>[미세먼지, 저, 감, 대책, 미세먼지, 심각, 성은, 이제, 적극, 대안, 요구,...</td>\n",
       "      <td>No</td>\n",
       "    </tr>\n",
       "    <tr>\n",
       "      <th>4</th>\n",
       "      <td>교통/건축/국토</td>\n",
       "      <td>저는 우선 아이셋의 부모입니다    식구가 많은편이고 아이들이 성장함에 따라 집이 ...</td>\n",
       "      <td>2127</td>\n",
       "      <td>2020-02-01</td>\n",
       "      <td>2020-01-02</td>\n",
       "      <td>악질세입자 방지를 위한 세입자보호법을 재정해주세요</td>\n",
       "      <td>[악질, 세, 입자, 방지, 를, 위, 한, 세, 입자, 보호, 법, 을, 재정, ...</td>\n",
       "      <td>[저, 우선, 아이, 셋, 부모, 식구, 편이, 아이, 집, 나름, 꿈, 가지, 좀...</td>\n",
       "      <td>[악질, 세, 입자, 방지, 를, 위, 한, 세, 입자, 보호, 법, 을, 재정, ...</td>\n",
       "      <td>Yes</td>\n",
       "    </tr>\n",
       "  </tbody>\n",
       "</table>\n",
       "</div>"
      ],
      "text/plain": [
       "   category                                            content  count  \\\n",
       "0    인권/성평등  본인은 2019년 8월 경 서울지방병무청 제1검사장 탈의실에서 믿을 수 없는 것을 ...    267   \n",
       "1     경제민주화  우리 나라 코스피 시총이 미국 애플보다 작다는 설이 돌 정도로 한국의 주식시장은 저...    271   \n",
       "2        행정  억울한 일로 국민청원을 신청합니다       저는  구치소  교도관입니다      ...    198   \n",
       "3     안전/환경  미세먼지의 심각성은 이제 적극적인 대안을 요구 하고 있습니다    우리 일상에서 가...    170   \n",
       "4  교통/건축/국토  저는 우선 아이셋의 부모입니다    식구가 많은편이고 아이들이 성장함에 따라 집이 ...   2127   \n",
       "\n",
       "          end       start                                              title  \\\n",
       "0  2020-02-01  2020-01-02  서울지방병무청 탈의실에 설치된  에 대한 진상규명을 요구한다  또한 인권위의 미온적...   \n",
       "1  2020-02-01  2020-01-02                            주식시장 활성화 및 소액 개미 투자자 보호   \n",
       "2  2020-02-01  2020-01-02                                           교정기관의 민낮   \n",
       "3  2020-02-01  2020-01-02                                         미세먼지 저감 대책   \n",
       "4  2020-02-01  2020-01-02                       악질세입자 방지를 위한 세입자보호법을 재정해주세요    \n",
       "\n",
       "                                         title_token  \\\n",
       "0  [서울, 지방, 병무청, 탈의실, 에, 설치, 된, 에, 대한, 진상, 규명, 을,...   \n",
       "1                    [주식시장, 활성화, 및, 소액, 개미, 투자자, 보호]   \n",
       "2                                    [교정, 기관, 의, 민낮]   \n",
       "3                                   [미세먼지, 저, 감, 대책]   \n",
       "4  [악질, 세, 입자, 방지, 를, 위, 한, 세, 입자, 보호, 법, 을, 재정, ...   \n",
       "\n",
       "                                       content_token  \\\n",
       "0  [본인, 경, 서울, 지방, 병무청, 제, 검사, 탈의실, 수, 것, 발견, 탈의실...   \n",
       "1  [우리, 나라, 코스피, 총, 미국, 애플, 설, 돌, 정도, 한국, 주식시장, 평...   \n",
       "2  [일로, 국민, 청원, 신청, 저, 구치소, 교도관, 이주, 전, 구치소, 독, 거...   \n",
       "3  [미세먼지, 심각, 성은, 이제, 적극, 대안, 요구, 우리, 일상, 가장, 적극,...   \n",
       "4  [저, 우선, 아이, 셋, 부모, 식구, 편이, 아이, 집, 나름, 꿈, 가지, 좀...   \n",
       "\n",
       "                                         token_final label  \n",
       "0  [서울, 지방, 병무청, 탈의실, 에, 설치, 된, 에, 대한, 진상, 규명, 을,...    No  \n",
       "1  [주식시장, 활성화, 및, 소액, 개미, 투자자, 보호, 우리, 나라, 코스피, 총...    No  \n",
       "2  [교정, 기관, 의, 민낮, 일로, 국민, 청원, 신청, 저, 구치소, 교도관, 이...    No  \n",
       "3  [미세먼지, 저, 감, 대책, 미세먼지, 심각, 성은, 이제, 적극, 대안, 요구,...    No  \n",
       "4  [악질, 세, 입자, 방지, 를, 위, 한, 세, 입자, 보호, 법, 을, 재정, ...   Yes  "
      ]
     },
     "execution_count": 8,
     "metadata": {},
     "output_type": "execute_result"
    }
   ],
   "source": [
    "# dataframe processed successfully\n",
    "df.head()"
   ]
  },
  {
   "cell_type": "code",
   "execution_count": 9,
   "metadata": {},
   "outputs": [],
   "source": [
    "df_drop = df[[\n",
    "    'token_final', 'label'\n",
    "]]"
   ]
  },
  {
   "cell_type": "code",
   "execution_count": 10,
   "metadata": {},
   "outputs": [
    {
     "data": {
      "text/plain": [
       "'c:\\\\Classes\\\\ml\\\\citizen_env\\\\Scripts\\\\python.exe'"
      ]
     },
     "execution_count": 10,
     "metadata": {},
     "output_type": "execute_result"
    }
   ],
   "source": [
    "#!pip install gensim\n",
    "import sys\n",
    "sys.executable\n",
    "# set up new virtual environment, installed python 3.8, gensim 3.8.3 to solve the problem\n",
    "# finish downloading other pandas,konlpy.. be sure to check interpreter and kernel as well\n",
    "# below is how to set up new virtual env with a different python version.\n",
    "# https://stackoverflow.com/questions/70422866/how-to-create-a-venv-with-a-different-python-version"
   ]
  },
  {
   "cell_type": "code",
   "execution_count": 11,
   "metadata": {},
   "outputs": [
    {
     "name": "stdout",
     "output_type": "stream",
     "text": [
      "Word2Vec(vocab=42642, size=100, alpha=0.025)\n",
      "[('음주', 0.8795356154441833), ('무면허', 0.8355539441108704), ('뺑소니', 0.8089871406555176), ('윤창', 0.7701980471611023), ('전과자', 0.7637375593185425), ('살인자', 0.75953209400177), ('운전자', 0.7551395893096924), ('살인죄', 0.7533096075057983), ('촉법소년', 0.7402899861335754), ('승자', 0.7366692423820496)]\n"
     ]
    }
   ],
   "source": [
    "from gensim.models import Word2Vec\n",
    "\n",
    "embedding_model = Word2Vec(df_drop['token_final'],\n",
    "                           sg=1, # skip-gram\n",
    "                           size = 100,\n",
    "                           window = 2,\n",
    "                           min_count = 1,\n",
    "                           workers = 4,\n",
    "                           )\n",
    "print(embedding_model)\n",
    "\n",
    "model_result = embedding_model.wv.most_similar(\"음주운전\")\n",
    "print(model_result)\n",
    "\n"
   ]
  },
  {
   "cell_type": "code",
   "execution_count": 12,
   "metadata": {},
   "outputs": [
    {
     "name": "stdout",
     "output_type": "stream",
     "text": [
      "[('음주', 0.8795356154441833), ('무면허', 0.8355539441108704), ('뺑소니', 0.8089871406555176), ('윤창', 0.7701980471611023), ('전과자', 0.7637375593185425), ('살인자', 0.75953209400177), ('운전자', 0.7551395893096924), ('살인죄', 0.7533096075057983), ('촉법소년', 0.7402899861335754), ('승자', 0.7366692423820496)]\n"
     ]
    }
   ],
   "source": [
    "from gensim.models import KeyedVectors\n",
    "\n",
    "embedding_model.wv.save_word2vec_format('datasets/petitions_tokens_w2v')\n",
    "\n",
    "loaded_model = KeyedVectors.load_word2vec_format(\"datasets/petitions_tokens_w2v\")\n",
    "\n",
    "# most_similar shows the same result as before\n",
    "model_result = loaded_model.most_similar(\"음주운전\")\n",
    "print(model_result)"
   ]
  },
  {
   "cell_type": "code",
   "execution_count": 14,
   "metadata": {},
   "outputs": [],
   "source": [
    "# dataset to train and validation set\n",
    "from numpy.random import RandomState\n",
    "\n",
    "rng = RandomState()\n",
    "\n",
    "tr = df_drop.sample(frac=0.8, random_state=rng)\n",
    "val = df_drop.loc[~df_drop.index.isin(tr.index)]\n",
    "\n",
    "#dataset is small, so test set is to be skipped.\n",
    "tr.to_csv('datasets/train.csv', index=False, encoding=\"utf-8-sig\")\n",
    "val.to_csv('datasets/validation.csv', index=False, encoding=\"utf-8-sig\")"
   ]
  },
  {
   "cell_type": "code",
   "execution_count": 15,
   "metadata": {},
   "outputs": [],
   "source": [
    "# defining Field class\n",
    "import torchtext\n",
    "from torchtext.data import Field # pip install torchtext == 0.6  \n",
    "\n",
    "def tokenizer(text):\n",
    "    text=re.sub('[\\][\\]\\']', '', str(text))\n",
    "    text = text.split(', ')\n",
    "    return text\n",
    "\n",
    "TEXT = Field(tokenize=tokenizer)\n",
    "LABEL = Field(sequential=False)"
   ]
  },
  {
   "cell_type": "code",
   "execution_count": null,
   "metadata": {},
   "outputs": [],
   "source": []
  }
 ],
 "metadata": {
  "kernelspec": {
   "display_name": "env",
   "language": "python",
   "name": "python3"
  },
  "language_info": {
   "codemirror_mode": {
    "name": "ipython",
    "version": 3
   },
   "file_extension": ".py",
   "mimetype": "text/x-python",
   "name": "python",
   "nbconvert_exporter": "python",
   "pygments_lexer": "ipython3",
   "version": "3.8.10"
  }
 },
 "nbformat": 4,
 "nbformat_minor": 2
}
