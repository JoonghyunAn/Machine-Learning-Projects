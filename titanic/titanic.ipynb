{
 "cells": [
  {
   "cell_type": "code",
   "execution_count": 1,
   "metadata": {},
   "outputs": [],
   "source": [
    "\n",
    "import numpy as np \n",
    "import pandas as pd \n",
    "import matplotlib.pyplot as plt\n",
    "import seaborn as sns\n",
    "plt.style.use('fivethirtyeight')\n",
    "import warnings\n",
    "warnings.filterwarnings('ignore')\n",
    "%matplotlib inline"
   ]
  },
  {
   "cell_type": "code",
   "execution_count": 2,
   "metadata": {},
   "outputs": [],
   "source": [
    "train_data = pd.read_csv('../datasets/titanic_data/train.csv')"
   ]
  },
  {
   "cell_type": "code",
   "execution_count": 3,
   "metadata": {},
   "outputs": [
    {
     "name": "stdout",
     "output_type": "stream",
     "text": [
      "<class 'pandas.core.frame.DataFrame'>\n",
      "RangeIndex: 891 entries, 0 to 890\n",
      "Data columns (total 12 columns):\n",
      " #   Column       Non-Null Count  Dtype  \n",
      "---  ------       --------------  -----  \n",
      " 0   PassengerId  891 non-null    int64  \n",
      " 1   Survived     891 non-null    int64  \n",
      " 2   Pclass       891 non-null    int64  \n",
      " 3   Name         891 non-null    object \n",
      " 4   Sex          891 non-null    object \n",
      " 5   Age          714 non-null    float64\n",
      " 6   SibSp        891 non-null    int64  \n",
      " 7   Parch        891 non-null    int64  \n",
      " 8   Ticket       891 non-null    object \n",
      " 9   Fare         891 non-null    float64\n",
      " 10  Cabin        204 non-null    object \n",
      " 11  Embarked     889 non-null    object \n",
      "dtypes: float64(2), int64(5), object(5)\n",
      "memory usage: 83.7+ KB\n"
     ]
    }
   ],
   "source": [
    "train_data.info()"
   ]
  },
  {
   "cell_type": "code",
   "execution_count": 5,
   "metadata": {},
   "outputs": [
    {
     "data": {
      "text/plain": [
       "PassengerId      0\n",
       "Survived         0\n",
       "Pclass           0\n",
       "Name             0\n",
       "Sex              0\n",
       "Age            177\n",
       "SibSp            0\n",
       "Parch            0\n",
       "Ticket           0\n",
       "Fare             0\n",
       "Cabin          687\n",
       "Embarked         2\n",
       "dtype: int64"
      ]
     },
     "execution_count": 5,
     "metadata": {},
     "output_type": "execute_result"
    }
   ],
   "source": [
    "train_data.isnull().sum()"
   ]
  },
  {
   "cell_type": "code",
   "execution_count": 6,
   "metadata": {},
   "outputs": [
    {
     "data": {
      "text/plain": [
       "Survived\n",
       "0    549\n",
       "1    342\n",
       "Name: count, dtype: int64"
      ]
     },
     "execution_count": 6,
     "metadata": {},
     "output_type": "execute_result"
    }
   ],
   "source": [
    "train_data['Survived'].value_counts()"
   ]
  },
  {
   "cell_type": "code",
   "execution_count": 7,
   "metadata": {},
   "outputs": [],
   "source": [
    "test_data = pd.read_csv('../datasets/titanic_data/test.csv')"
   ]
  },
  {
   "cell_type": "code",
   "execution_count": 8,
   "metadata": {},
   "outputs": [
    {
     "data": {
      "text/plain": [
       "PassengerId      0\n",
       "Pclass           0\n",
       "Name             0\n",
       "Sex              0\n",
       "Age             86\n",
       "SibSp            0\n",
       "Parch            0\n",
       "Ticket           0\n",
       "Fare             1\n",
       "Cabin          327\n",
       "Embarked         0\n",
       "dtype: int64"
      ]
     },
     "execution_count": 8,
     "metadata": {},
     "output_type": "execute_result"
    }
   ],
   "source": [
    "test_data.isnull().sum()"
   ]
  },
  {
   "cell_type": "code",
   "execution_count": 9,
   "metadata": {},
   "outputs": [
    {
     "data": {
      "text/html": [
       "<div>\n",
       "<style scoped>\n",
       "    .dataframe tbody tr th:only-of-type {\n",
       "        vertical-align: middle;\n",
       "    }\n",
       "\n",
       "    .dataframe tbody tr th {\n",
       "        vertical-align: top;\n",
       "    }\n",
       "\n",
       "    .dataframe thead th {\n",
       "        text-align: right;\n",
       "    }\n",
       "</style>\n",
       "<table border=\"1\" class=\"dataframe\">\n",
       "  <thead>\n",
       "    <tr style=\"text-align: right;\">\n",
       "      <th></th>\n",
       "      <th>PassengerId</th>\n",
       "      <th>Pclass</th>\n",
       "      <th>Name</th>\n",
       "      <th>Sex</th>\n",
       "      <th>Age</th>\n",
       "      <th>SibSp</th>\n",
       "      <th>Parch</th>\n",
       "      <th>Ticket</th>\n",
       "      <th>Fare</th>\n",
       "      <th>Cabin</th>\n",
       "      <th>Embarked</th>\n",
       "    </tr>\n",
       "  </thead>\n",
       "  <tbody>\n",
       "    <tr>\n",
       "      <th>0</th>\n",
       "      <td>892</td>\n",
       "      <td>3</td>\n",
       "      <td>Kelly, Mr. James</td>\n",
       "      <td>male</td>\n",
       "      <td>34.5</td>\n",
       "      <td>0</td>\n",
       "      <td>0</td>\n",
       "      <td>330911</td>\n",
       "      <td>7.8292</td>\n",
       "      <td>NaN</td>\n",
       "      <td>Q</td>\n",
       "    </tr>\n",
       "    <tr>\n",
       "      <th>1</th>\n",
       "      <td>893</td>\n",
       "      <td>3</td>\n",
       "      <td>Wilkes, Mrs. James (Ellen Needs)</td>\n",
       "      <td>female</td>\n",
       "      <td>47.0</td>\n",
       "      <td>1</td>\n",
       "      <td>0</td>\n",
       "      <td>363272</td>\n",
       "      <td>7.0000</td>\n",
       "      <td>NaN</td>\n",
       "      <td>S</td>\n",
       "    </tr>\n",
       "    <tr>\n",
       "      <th>2</th>\n",
       "      <td>894</td>\n",
       "      <td>2</td>\n",
       "      <td>Myles, Mr. Thomas Francis</td>\n",
       "      <td>male</td>\n",
       "      <td>62.0</td>\n",
       "      <td>0</td>\n",
       "      <td>0</td>\n",
       "      <td>240276</td>\n",
       "      <td>9.6875</td>\n",
       "      <td>NaN</td>\n",
       "      <td>Q</td>\n",
       "    </tr>\n",
       "    <tr>\n",
       "      <th>3</th>\n",
       "      <td>895</td>\n",
       "      <td>3</td>\n",
       "      <td>Wirz, Mr. Albert</td>\n",
       "      <td>male</td>\n",
       "      <td>27.0</td>\n",
       "      <td>0</td>\n",
       "      <td>0</td>\n",
       "      <td>315154</td>\n",
       "      <td>8.6625</td>\n",
       "      <td>NaN</td>\n",
       "      <td>S</td>\n",
       "    </tr>\n",
       "    <tr>\n",
       "      <th>4</th>\n",
       "      <td>896</td>\n",
       "      <td>3</td>\n",
       "      <td>Hirvonen, Mrs. Alexander (Helga E Lindqvist)</td>\n",
       "      <td>female</td>\n",
       "      <td>22.0</td>\n",
       "      <td>1</td>\n",
       "      <td>1</td>\n",
       "      <td>3101298</td>\n",
       "      <td>12.2875</td>\n",
       "      <td>NaN</td>\n",
       "      <td>S</td>\n",
       "    </tr>\n",
       "  </tbody>\n",
       "</table>\n",
       "</div>"
      ],
      "text/plain": [
       "   PassengerId  Pclass                                          Name     Sex  \\\n",
       "0          892       3                              Kelly, Mr. James    male   \n",
       "1          893       3              Wilkes, Mrs. James (Ellen Needs)  female   \n",
       "2          894       2                     Myles, Mr. Thomas Francis    male   \n",
       "3          895       3                              Wirz, Mr. Albert    male   \n",
       "4          896       3  Hirvonen, Mrs. Alexander (Helga E Lindqvist)  female   \n",
       "\n",
       "    Age  SibSp  Parch   Ticket     Fare Cabin Embarked  \n",
       "0  34.5      0      0   330911   7.8292   NaN        Q  \n",
       "1  47.0      1      0   363272   7.0000   NaN        S  \n",
       "2  62.0      0      0   240276   9.6875   NaN        Q  \n",
       "3  27.0      0      0   315154   8.6625   NaN        S  \n",
       "4  22.0      1      1  3101298  12.2875   NaN        S  "
      ]
     },
     "execution_count": 9,
     "metadata": {},
     "output_type": "execute_result"
    }
   ],
   "source": [
    "test_data.head()"
   ]
  },
  {
   "cell_type": "code",
   "execution_count": 8,
   "metadata": {},
   "outputs": [
    {
     "name": "stdout",
     "output_type": "stream",
     "text": [
      "% of women who survived: 0.7420382165605095\n"
     ]
    }
   ],
   "source": [
    "women = train_data.loc[train_data.Sex == 'female'][\"Survived\"]\n",
    "rate_women = sum(women)/len(women)\n",
    "\n",
    "print(\"% of women who survived:\", rate_women)"
   ]
  },
  {
   "cell_type": "code",
   "execution_count": 10,
   "metadata": {},
   "outputs": [
    {
     "name": "stdout",
     "output_type": "stream",
     "text": [
      "% of men who survived:  0.18890814558058924\n"
     ]
    }
   ],
   "source": [
    "men = train_data.loc[train_data.Sex == 'male']['Survived']\n",
    "rate_men = sum(men)/len(men)\n",
    "\n",
    "print(\"% of men who survived: \", rate_men)"
   ]
  },
  {
   "cell_type": "code",
   "execution_count": 11,
   "metadata": {},
   "outputs": [
    {
     "name": "stdout",
     "output_type": "stream",
     "text": [
      "Collecting scikit-learn\n",
      "  Downloading scikit_learn-1.5.1-cp312-cp312-win_amd64.whl.metadata (12 kB)\n",
      "Requirement already satisfied: numpy>=1.19.5 in c:\\classes\\ml\\env\\lib\\site-packages (from scikit-learn) (2.0.0)\n",
      "Collecting scipy>=1.6.0 (from scikit-learn)\n",
      "  Using cached scipy-1.14.0-cp312-cp312-win_amd64.whl.metadata (60 kB)\n",
      "Collecting joblib>=1.2.0 (from scikit-learn)\n",
      "  Using cached joblib-1.4.2-py3-none-any.whl.metadata (5.4 kB)\n",
      "Collecting threadpoolctl>=3.1.0 (from scikit-learn)\n",
      "  Using cached threadpoolctl-3.5.0-py3-none-any.whl.metadata (13 kB)\n",
      "Downloading scikit_learn-1.5.1-cp312-cp312-win_amd64.whl (10.9 MB)\n",
      "   ---------------------------------------- 0.0/10.9 MB ? eta -:--:--\n",
      "    --------------------------------------- 0.2/10.9 MB 3.5 MB/s eta 0:00:04\n",
      "   - -------------------------------------- 0.5/10.9 MB 4.7 MB/s eta 0:00:03\n",
      "   -- ------------------------------------- 0.6/10.9 MB 4.9 MB/s eta 0:00:03\n",
      "   --- ------------------------------------ 0.9/10.9 MB 5.3 MB/s eta 0:00:02\n",
      "   --- ------------------------------------ 1.1/10.9 MB 5.2 MB/s eta 0:00:02\n",
      "   ----- ---------------------------------- 1.4/10.9 MB 5.3 MB/s eta 0:00:02\n",
      "   ------ --------------------------------- 1.7/10.9 MB 5.3 MB/s eta 0:00:02\n",
      "   ------- -------------------------------- 2.0/10.9 MB 5.6 MB/s eta 0:00:02\n",
      "   -------- ------------------------------- 2.2/10.9 MB 5.5 MB/s eta 0:00:02\n",
      "   --------- ------------------------------ 2.5/10.9 MB 5.5 MB/s eta 0:00:02\n",
      "   ---------- ----------------------------- 2.8/10.9 MB 5.6 MB/s eta 0:00:02\n",
      "   ----------- ---------------------------- 3.0/10.9 MB 5.9 MB/s eta 0:00:02\n",
      "   ----------- ---------------------------- 3.3/10.9 MB 5.6 MB/s eta 0:00:02\n",
      "   ------------ --------------------------- 3.5/10.9 MB 5.5 MB/s eta 0:00:02\n",
      "   ------------- -------------------------- 3.7/10.9 MB 5.5 MB/s eta 0:00:02\n",
      "   -------------- ------------------------- 4.0/10.9 MB 5.5 MB/s eta 0:00:02\n",
      "   --------------- ------------------------ 4.2/10.9 MB 5.5 MB/s eta 0:00:02\n",
      "   ---------------- ----------------------- 4.5/10.9 MB 5.5 MB/s eta 0:00:02\n",
      "   ----------------- ---------------------- 4.8/10.9 MB 5.6 MB/s eta 0:00:02\n",
      "   ------------------ --------------------- 5.1/10.9 MB 5.6 MB/s eta 0:00:02\n",
      "   ------------------- -------------------- 5.3/10.9 MB 5.6 MB/s eta 0:00:02\n",
      "   -------------------- ------------------- 5.6/10.9 MB 5.6 MB/s eta 0:00:01\n",
      "   --------------------- ------------------ 5.8/10.9 MB 5.5 MB/s eta 0:00:01\n",
      "   ---------------------- ----------------- 6.1/10.9 MB 5.5 MB/s eta 0:00:01\n",
      "   ---------------------- ----------------- 6.2/10.9 MB 5.5 MB/s eta 0:00:01\n",
      "   ----------------------- ---------------- 6.5/10.9 MB 5.6 MB/s eta 0:00:01\n",
      "   ------------------------ --------------- 6.7/10.9 MB 5.4 MB/s eta 0:00:01\n",
      "   ------------------------- -------------- 6.9/10.9 MB 5.5 MB/s eta 0:00:01\n",
      "   -------------------------- ------------- 7.2/10.9 MB 5.5 MB/s eta 0:00:01\n",
      "   --------------------------- ------------ 7.4/10.9 MB 5.5 MB/s eta 0:00:01\n",
      "   --------------------------- ------------ 7.5/10.9 MB 5.3 MB/s eta 0:00:01\n",
      "   ---------------------------- ----------- 7.7/10.9 MB 5.3 MB/s eta 0:00:01\n",
      "   ----------------------------- ---------- 8.0/10.9 MB 5.3 MB/s eta 0:00:01\n",
      "   ----------------------------- ---------- 8.0/10.9 MB 5.2 MB/s eta 0:00:01\n",
      "   ----------------------------- ---------- 8.1/10.9 MB 5.1 MB/s eta 0:00:01\n",
      "   ----------------------------- ---------- 8.1/10.9 MB 5.0 MB/s eta 0:00:01\n",
      "   ------------------------------ --------- 8.4/10.9 MB 4.9 MB/s eta 0:00:01\n",
      "   ------------------------------ --------- 8.4/10.9 MB 4.9 MB/s eta 0:00:01\n",
      "   ------------------------------- -------- 8.5/10.9 MB 4.8 MB/s eta 0:00:01\n",
      "   ------------------------------- -------- 8.6/10.9 MB 4.8 MB/s eta 0:00:01\n",
      "   -------------------------------- ------- 8.9/10.9 MB 4.8 MB/s eta 0:00:01\n",
      "   --------------------------------- ------ 9.1/10.9 MB 4.8 MB/s eta 0:00:01\n",
      "   ---------------------------------- ----- 9.3/10.9 MB 4.8 MB/s eta 0:00:01\n",
      "   ---------------------------------- ----- 9.5/10.9 MB 4.7 MB/s eta 0:00:01\n",
      "   ----------------------------------- ---- 9.7/10.9 MB 4.7 MB/s eta 0:00:01\n",
      "   ----------------------------------- ---- 9.8/10.9 MB 4.7 MB/s eta 0:00:01\n",
      "   ------------------------------------ --- 10.1/10.9 MB 4.7 MB/s eta 0:00:01\n",
      "   ------------------------------------- -- 10.3/10.9 MB 4.7 MB/s eta 0:00:01\n",
      "   -------------------------------------- - 10.4/10.9 MB 4.7 MB/s eta 0:00:01\n",
      "   -------------------------------------- - 10.5/10.9 MB 4.6 MB/s eta 0:00:01\n",
      "   -------------------------------------- - 10.5/10.9 MB 4.6 MB/s eta 0:00:01\n",
      "   -------------------------------------- - 10.5/10.9 MB 4.6 MB/s eta 0:00:01\n",
      "   -------------------------------------- - 10.6/10.9 MB 4.4 MB/s eta 0:00:01\n",
      "   ---------------------------------------  10.7/10.9 MB 4.3 MB/s eta 0:00:01\n",
      "   ---------------------------------------  10.9/10.9 MB 4.3 MB/s eta 0:00:01\n",
      "   ---------------------------------------  10.9/10.9 MB 4.3 MB/s eta 0:00:01\n",
      "   ---------------------------------------  10.9/10.9 MB 4.3 MB/s eta 0:00:01\n",
      "   ---------------------------------------- 10.9/10.9 MB 4.1 MB/s eta 0:00:00\n",
      "Using cached joblib-1.4.2-py3-none-any.whl (301 kB)\n",
      "Using cached scipy-1.14.0-cp312-cp312-win_amd64.whl (44.5 MB)\n",
      "Using cached threadpoolctl-3.5.0-py3-none-any.whl (18 kB)\n",
      "Installing collected packages: threadpoolctl, scipy, joblib, scikit-learn\n",
      "Successfully installed joblib-1.4.2 scikit-learn-1.5.1 scipy-1.14.0 threadpoolctl-3.5.0\n"
     ]
    }
   ],
   "source": [
    "!pip install scikit-learn"
   ]
  },
  {
   "cell_type": "code",
   "execution_count": 12,
   "metadata": {},
   "outputs": [
    {
     "name": "stdout",
     "output_type": "stream",
     "text": [
      "Your submission was successfully saved!\n"
     ]
    }
   ],
   "source": [
    "from sklearn.ensemble import RandomForestClassifier\n",
    "\n",
    "y = train_data['Survived']\n",
    "features = ['Pclass', 'Sex','SibSp','Parch']\n",
    "X = pd.get_dummies(train_data[features])\n",
    "X_test = pd.get_dummies(test_data[features])\n",
    "\n",
    "model = RandomForestClassifier(n_estimators=100, max_depth = 5, random_state=1)\n",
    "model.fit(X,y)\n",
    "predictions = model.predict(X_test)\n",
    "\n",
    "output = pd.DataFrame({'passengerId': test_data.PassengerId, 'Survived': predictions})\n",
    "output.to_csv('submission.csv', index=False)\n",
    "print('Your submission was successfully saved!')"
   ]
  },
  {
   "cell_type": "code",
   "execution_count": null,
   "metadata": {},
   "outputs": [],
   "source": [
    "# code referred from \n",
    "# https://www.kaggle.com/code/alexisbcook/titanic-tutorial/notebook\n"
   ]
  },
  {
   "cell_type": "code",
   "execution_count": null,
   "metadata": {},
   "outputs": [],
   "source": [
    "# let's try a, b then logistics regression and compare result"
   ]
  }
 ],
 "metadata": {
  "kernelspec": {
   "display_name": "env",
   "language": "python",
   "name": "python3"
  },
  "language_info": {
   "codemirror_mode": {
    "name": "ipython",
    "version": 3
   },
   "file_extension": ".py",
   "mimetype": "text/x-python",
   "name": "python",
   "nbconvert_exporter": "python",
   "pygments_lexer": "ipython3",
   "version": "3.12.4"
  }
 },
 "nbformat": 4,
 "nbformat_minor": 2
}
